{
 "cells": [
  {
   "cell_type": "code",
   "execution_count": 29,
   "id": "1bb1167f",
   "metadata": {},
   "outputs": [],
   "source": [
    "import numpy as np\n",
    "import pandas as pd\n",
    "import matplotlib.pyplot as plt\n",
    "%matplotlib inline\n",
    "import seaborn as sns"
   ]
  },
  {
   "cell_type": "code",
   "execution_count": 30,
   "id": "06568f62",
   "metadata": {},
   "outputs": [
    {
     "data": {
      "text/html": [
       "<div>\n",
       "<style scoped>\n",
       "    .dataframe tbody tr th:only-of-type {\n",
       "        vertical-align: middle;\n",
       "    }\n",
       "\n",
       "    .dataframe tbody tr th {\n",
       "        vertical-align: top;\n",
       "    }\n",
       "\n",
       "    .dataframe thead th {\n",
       "        text-align: right;\n",
       "    }\n",
       "</style>\n",
       "<table border=\"1\" class=\"dataframe\">\n",
       "  <thead>\n",
       "    <tr style=\"text-align: right;\">\n",
       "      <th></th>\n",
       "      <th>Posted On</th>\n",
       "      <th>BHK</th>\n",
       "      <th>Rent</th>\n",
       "      <th>Size</th>\n",
       "      <th>Floor</th>\n",
       "      <th>Area Type</th>\n",
       "      <th>Area Locality</th>\n",
       "      <th>City</th>\n",
       "      <th>Furnishing Status</th>\n",
       "      <th>Tenant Preferred</th>\n",
       "      <th>Bathroom</th>\n",
       "      <th>Point of Contact</th>\n",
       "    </tr>\n",
       "  </thead>\n",
       "  <tbody>\n",
       "    <tr>\n",
       "      <th>0</th>\n",
       "      <td>2022-05-18</td>\n",
       "      <td>2</td>\n",
       "      <td>10000</td>\n",
       "      <td>1100</td>\n",
       "      <td>Ground out of 2</td>\n",
       "      <td>Super Area</td>\n",
       "      <td>Bandel</td>\n",
       "      <td>Kolkata</td>\n",
       "      <td>Unfurnished</td>\n",
       "      <td>Bachelors/Family</td>\n",
       "      <td>2</td>\n",
       "      <td>Contact Owner</td>\n",
       "    </tr>\n",
       "    <tr>\n",
       "      <th>1</th>\n",
       "      <td>2022-05-13</td>\n",
       "      <td>2</td>\n",
       "      <td>20000</td>\n",
       "      <td>800</td>\n",
       "      <td>1 out of 3</td>\n",
       "      <td>Super Area</td>\n",
       "      <td>Phool Bagan, Kankurgachi</td>\n",
       "      <td>Kolkata</td>\n",
       "      <td>Semi-Furnished</td>\n",
       "      <td>Bachelors/Family</td>\n",
       "      <td>1</td>\n",
       "      <td>Contact Owner</td>\n",
       "    </tr>\n",
       "    <tr>\n",
       "      <th>2</th>\n",
       "      <td>2022-05-16</td>\n",
       "      <td>2</td>\n",
       "      <td>17000</td>\n",
       "      <td>1000</td>\n",
       "      <td>1 out of 3</td>\n",
       "      <td>Super Area</td>\n",
       "      <td>Salt Lake City Sector 2</td>\n",
       "      <td>Kolkata</td>\n",
       "      <td>Semi-Furnished</td>\n",
       "      <td>Bachelors/Family</td>\n",
       "      <td>1</td>\n",
       "      <td>Contact Owner</td>\n",
       "    </tr>\n",
       "    <tr>\n",
       "      <th>3</th>\n",
       "      <td>2022-07-04</td>\n",
       "      <td>2</td>\n",
       "      <td>10000</td>\n",
       "      <td>800</td>\n",
       "      <td>1 out of 2</td>\n",
       "      <td>Super Area</td>\n",
       "      <td>Dumdum Park</td>\n",
       "      <td>Kolkata</td>\n",
       "      <td>Unfurnished</td>\n",
       "      <td>Bachelors/Family</td>\n",
       "      <td>1</td>\n",
       "      <td>Contact Owner</td>\n",
       "    </tr>\n",
       "    <tr>\n",
       "      <th>4</th>\n",
       "      <td>2022-05-09</td>\n",
       "      <td>2</td>\n",
       "      <td>7500</td>\n",
       "      <td>850</td>\n",
       "      <td>1 out of 2</td>\n",
       "      <td>Carpet Area</td>\n",
       "      <td>South Dum Dum</td>\n",
       "      <td>Kolkata</td>\n",
       "      <td>Unfurnished</td>\n",
       "      <td>Bachelors</td>\n",
       "      <td>1</td>\n",
       "      <td>Contact Owner</td>\n",
       "    </tr>\n",
       "  </tbody>\n",
       "</table>\n",
       "</div>"
      ],
      "text/plain": [
       "    Posted On  BHK   Rent  Size            Floor    Area Type  \\\n",
       "0  2022-05-18    2  10000  1100  Ground out of 2   Super Area   \n",
       "1  2022-05-13    2  20000   800       1 out of 3   Super Area   \n",
       "2  2022-05-16    2  17000  1000       1 out of 3   Super Area   \n",
       "3  2022-07-04    2  10000   800       1 out of 2   Super Area   \n",
       "4  2022-05-09    2   7500   850       1 out of 2  Carpet Area   \n",
       "\n",
       "              Area Locality     City Furnishing Status  Tenant Preferred  \\\n",
       "0                    Bandel  Kolkata       Unfurnished  Bachelors/Family   \n",
       "1  Phool Bagan, Kankurgachi  Kolkata    Semi-Furnished  Bachelors/Family   \n",
       "2   Salt Lake City Sector 2  Kolkata    Semi-Furnished  Bachelors/Family   \n",
       "3               Dumdum Park  Kolkata       Unfurnished  Bachelors/Family   \n",
       "4             South Dum Dum  Kolkata       Unfurnished         Bachelors   \n",
       "\n",
       "   Bathroom Point of Contact  \n",
       "0         2    Contact Owner  \n",
       "1         1    Contact Owner  \n",
       "2         1    Contact Owner  \n",
       "3         1    Contact Owner  \n",
       "4         1    Contact Owner  "
      ]
     },
     "execution_count": 30,
     "metadata": {},
     "output_type": "execute_result"
    }
   ],
   "source": [
    "df=pd.read_csv(\"House_Rent_Dataset.csv\")\n",
    "df.head()"
   ]
  },
  {
   "cell_type": "code",
   "execution_count": 31,
   "id": "7de531ee",
   "metadata": {},
   "outputs": [
    {
     "data": {
      "text/plain": [
       "Posted On            0\n",
       "BHK                  0\n",
       "Rent                 0\n",
       "Size                 0\n",
       "Floor                0\n",
       "Area Type            0\n",
       "Area Locality        0\n",
       "City                 0\n",
       "Furnishing Status    0\n",
       "Tenant Preferred     0\n",
       "Bathroom             0\n",
       "Point of Contact     0\n",
       "dtype: int64"
      ]
     },
     "execution_count": 31,
     "metadata": {},
     "output_type": "execute_result"
    }
   ],
   "source": [
    "df.isnull().sum()"
   ]
  },
  {
   "cell_type": "markdown",
   "id": "fdd9c1cc",
   "metadata": {},
   "source": [
    "There are no missing values in the dataset."
   ]
  },
  {
   "cell_type": "code",
   "execution_count": 32,
   "id": "0981aa08",
   "metadata": {},
   "outputs": [
    {
     "data": {
      "text/html": [
       "<div>\n",
       "<style scoped>\n",
       "    .dataframe tbody tr th:only-of-type {\n",
       "        vertical-align: middle;\n",
       "    }\n",
       "\n",
       "    .dataframe tbody tr th {\n",
       "        vertical-align: top;\n",
       "    }\n",
       "\n",
       "    .dataframe thead th {\n",
       "        text-align: right;\n",
       "    }\n",
       "</style>\n",
       "<table border=\"1\" class=\"dataframe\">\n",
       "  <thead>\n",
       "    <tr style=\"text-align: right;\">\n",
       "      <th></th>\n",
       "      <th>BHK</th>\n",
       "      <th>Rent</th>\n",
       "      <th>Size</th>\n",
       "      <th>Bathroom</th>\n",
       "    </tr>\n",
       "  </thead>\n",
       "  <tbody>\n",
       "    <tr>\n",
       "      <th>count</th>\n",
       "      <td>4746.000000</td>\n",
       "      <td>4.746000e+03</td>\n",
       "      <td>4746.000000</td>\n",
       "      <td>4746.000000</td>\n",
       "    </tr>\n",
       "    <tr>\n",
       "      <th>mean</th>\n",
       "      <td>2.083860</td>\n",
       "      <td>3.499345e+04</td>\n",
       "      <td>967.490729</td>\n",
       "      <td>1.965866</td>\n",
       "    </tr>\n",
       "    <tr>\n",
       "      <th>std</th>\n",
       "      <td>0.832256</td>\n",
       "      <td>7.810641e+04</td>\n",
       "      <td>634.202328</td>\n",
       "      <td>0.884532</td>\n",
       "    </tr>\n",
       "    <tr>\n",
       "      <th>min</th>\n",
       "      <td>1.000000</td>\n",
       "      <td>1.200000e+03</td>\n",
       "      <td>10.000000</td>\n",
       "      <td>1.000000</td>\n",
       "    </tr>\n",
       "    <tr>\n",
       "      <th>25%</th>\n",
       "      <td>2.000000</td>\n",
       "      <td>1.000000e+04</td>\n",
       "      <td>550.000000</td>\n",
       "      <td>1.000000</td>\n",
       "    </tr>\n",
       "    <tr>\n",
       "      <th>50%</th>\n",
       "      <td>2.000000</td>\n",
       "      <td>1.600000e+04</td>\n",
       "      <td>850.000000</td>\n",
       "      <td>2.000000</td>\n",
       "    </tr>\n",
       "    <tr>\n",
       "      <th>75%</th>\n",
       "      <td>3.000000</td>\n",
       "      <td>3.300000e+04</td>\n",
       "      <td>1200.000000</td>\n",
       "      <td>2.000000</td>\n",
       "    </tr>\n",
       "    <tr>\n",
       "      <th>max</th>\n",
       "      <td>6.000000</td>\n",
       "      <td>3.500000e+06</td>\n",
       "      <td>8000.000000</td>\n",
       "      <td>10.000000</td>\n",
       "    </tr>\n",
       "  </tbody>\n",
       "</table>\n",
       "</div>"
      ],
      "text/plain": [
       "               BHK          Rent         Size     Bathroom\n",
       "count  4746.000000  4.746000e+03  4746.000000  4746.000000\n",
       "mean      2.083860  3.499345e+04   967.490729     1.965866\n",
       "std       0.832256  7.810641e+04   634.202328     0.884532\n",
       "min       1.000000  1.200000e+03    10.000000     1.000000\n",
       "25%       2.000000  1.000000e+04   550.000000     1.000000\n",
       "50%       2.000000  1.600000e+04   850.000000     2.000000\n",
       "75%       3.000000  3.300000e+04  1200.000000     2.000000\n",
       "max       6.000000  3.500000e+06  8000.000000    10.000000"
      ]
     },
     "execution_count": 32,
     "metadata": {},
     "output_type": "execute_result"
    }
   ],
   "source": [
    "df.describe()"
   ]
  },
  {
   "cell_type": "markdown",
   "id": "844f8cae",
   "metadata": {},
   "source": [
    "Let's analyze the relationship between dependent variable Rent and independent variable city"
   ]
  },
  {
   "cell_type": "code",
   "execution_count": 33,
   "id": "d965ab18",
   "metadata": {},
   "outputs": [
    {
     "data": {
      "image/png": "[encoded data removed]",
      "text/plain": [
       "<Figure size 1152x576 with 1 Axes>"
      ]
     },
     "metadata": {
      "needs_background": "light"
     },
     "output_type": "display_data"
    }
   ],
   "source": [
    "plt.figure(figsize=(16,8))\n",
    "sns.barplot(x=df[\"City\"],y=df[\"Rent\"])\n",
    "plt.title(\"Rent in different cities\")\n",
    "plt.show()"
   ]
  },
  {
   "cell_type": "markdown",
   "id": "354c8394",
   "metadata": {},
   "source": [
    "From the above plot we can see that rent is high in Mumbai city. Now let's look at the rent in different city based on BHK."
   ]
  },
  {
   "cell_type": "code",
   "execution_count": 34,
   "id": "6932433f",
   "metadata": {},
   "outputs": [
    {
     "data": {
      "image/png": "[encoded data removed]",
      "text/plain": [
       "<Figure size 1152x576 with 1 Axes>"
      ]
     },
     "metadata": {
      "needs_background": "light"
     },
     "output_type": "display_data"
    }
   ],
   "source": [
    "plt.figure(figsize=(16,8))\n",
    "sns.barplot(x=df[\"City\"],y=df[\"Rent\"],hue=df[\"BHK\"])\n",
    "plt.title(\"Rent based on total BHK in cities\")\n",
    "plt.show()"
   ]
  },
  {
   "cell_type": "markdown",
   "id": "9fadda1d",
   "metadata": {},
   "source": [
    "As the number of BHK increases rent of house also increases."
   ]
  },
  {
   "cell_type": "code",
   "execution_count": 35,
   "id": "0d733922",
   "metadata": {},
   "outputs": [
    {
     "data": {
      "image/png": "[encoded data removed]",
      "text/plain": [
       "<Figure size 1152x576 with 1 Axes>"
      ]
     },
     "metadata": {
      "needs_background": "light"
     },
     "output_type": "display_data"
    }
   ],
   "source": [
    "plt.figure(figsize=(16,8))\n",
    "sns.scatterplot(x=df[\"Size\"],y=df[\"Rent\"],hue=df[\"City\"])\n",
    "plt.title(\"Rent in different cities based on house size\")\n",
    "plt.show()"
   ]
  },
  {
   "cell_type": "markdown",
   "id": "9e1a2a44",
   "metadata": {},
   "source": [
    "Now let’s have a look at the rent of the houses in different cities according to the furnishing status of the house:"
   ]
  },
  {
   "cell_type": "code",
   "execution_count": 36,
   "id": "883cba6d",
   "metadata": {},
   "outputs": [
    {
     "data": {
      "image/png": "[encoded data removed]",
      "text/plain": [
       "<Figure size 1152x576 with 1 Axes>"
      ]
     },
     "metadata": {
      "needs_background": "light"
     },
     "output_type": "display_data"
    }
   ],
   "source": [
    "plt.figure(figsize=(16,8))\n",
    "sns.barplot(x=df[\"City\"],y=df[\"Rent\"],hue=df[\"Furnishing Status\"])\n",
    "plt.title(\"Rent in different cities based on house's furnishing status\")\n",
    "plt.show()"
   ]
  },
  {
   "cell_type": "markdown",
   "id": "cffa1577",
   "metadata": {},
   "source": [
    "Except for Delhi and Hyderabad in every cities rent of Furnished house is more followed by Semi-furnished followed by unfurnished."
   ]
  },
  {
   "cell_type": "code",
   "execution_count": 9,
   "id": "f7fc7f8e",
   "metadata": {},
   "outputs": [
    {
     "data": {
      "text/html": [
       "<div>\n",
       "<style scoped>\n",
       "    .dataframe tbody tr th:only-of-type {\n",
       "        vertical-align: middle;\n",
       "    }\n",
       "\n",
       "    .dataframe tbody tr th {\n",
       "        vertical-align: top;\n",
       "    }\n",
       "\n",
       "    .dataframe thead th {\n",
       "        text-align: right;\n",
       "    }\n",
       "</style>\n",
       "<table border=\"1\" class=\"dataframe\">\n",
       "  <thead>\n",
       "    <tr style=\"text-align: right;\">\n",
       "      <th></th>\n",
       "      <th>Posted On</th>\n",
       "      <th>BHK</th>\n",
       "      <th>Rent</th>\n",
       "      <th>Size</th>\n",
       "      <th>Floor</th>\n",
       "      <th>Area Type</th>\n",
       "      <th>Area Locality</th>\n",
       "      <th>City</th>\n",
       "      <th>Furnishing Status</th>\n",
       "      <th>Tenant Preferred</th>\n",
       "      <th>Bathroom</th>\n",
       "      <th>Point of Contact</th>\n",
       "    </tr>\n",
       "  </thead>\n",
       "  <tbody>\n",
       "    <tr>\n",
       "      <th>0</th>\n",
       "      <td>2022-05-18</td>\n",
       "      <td>2</td>\n",
       "      <td>10000</td>\n",
       "      <td>1100</td>\n",
       "      <td>Ground out of 2</td>\n",
       "      <td>Super Area</td>\n",
       "      <td>Bandel</td>\n",
       "      <td>Kolkata</td>\n",
       "      <td>Unfurnished</td>\n",
       "      <td>Bachelors/Family</td>\n",
       "      <td>2</td>\n",
       "      <td>Contact Owner</td>\n",
       "    </tr>\n",
       "    <tr>\n",
       "      <th>1</th>\n",
       "      <td>2022-05-13</td>\n",
       "      <td>2</td>\n",
       "      <td>20000</td>\n",
       "      <td>800</td>\n",
       "      <td>1 out of 3</td>\n",
       "      <td>Super Area</td>\n",
       "      <td>Phool Bagan, Kankurgachi</td>\n",
       "      <td>Kolkata</td>\n",
       "      <td>Semi-Furnished</td>\n",
       "      <td>Bachelors/Family</td>\n",
       "      <td>1</td>\n",
       "      <td>Contact Owner</td>\n",
       "    </tr>\n",
       "    <tr>\n",
       "      <th>2</th>\n",
       "      <td>2022-05-16</td>\n",
       "      <td>2</td>\n",
       "      <td>17000</td>\n",
       "      <td>1000</td>\n",
       "      <td>1 out of 3</td>\n",
       "      <td>Super Area</td>\n",
       "      <td>Salt Lake City Sector 2</td>\n",
       "      <td>Kolkata</td>\n",
       "      <td>Semi-Furnished</td>\n",
       "      <td>Bachelors/Family</td>\n",
       "      <td>1</td>\n",
       "      <td>Contact Owner</td>\n",
       "    </tr>\n",
       "    <tr>\n",
       "      <th>3</th>\n",
       "      <td>2022-07-04</td>\n",
       "      <td>2</td>\n",
       "      <td>10000</td>\n",
       "      <td>800</td>\n",
       "      <td>1 out of 2</td>\n",
       "      <td>Super Area</td>\n",
       "      <td>Dumdum Park</td>\n",
       "      <td>Kolkata</td>\n",
       "      <td>Unfurnished</td>\n",
       "      <td>Bachelors/Family</td>\n",
       "      <td>1</td>\n",
       "      <td>Contact Owner</td>\n",
       "    </tr>\n",
       "    <tr>\n",
       "      <th>4</th>\n",
       "      <td>2022-05-09</td>\n",
       "      <td>2</td>\n",
       "      <td>7500</td>\n",
       "      <td>850</td>\n",
       "      <td>1 out of 2</td>\n",
       "      <td>Carpet Area</td>\n",
       "      <td>South Dum Dum</td>\n",
       "      <td>Kolkata</td>\n",
       "      <td>Unfurnished</td>\n",
       "      <td>Bachelors</td>\n",
       "      <td>1</td>\n",
       "      <td>Contact Owner</td>\n",
       "    </tr>\n",
       "  </tbody>\n",
       "</table>\n",
       "</div>"
      ],
      "text/plain": [
       "    Posted On  BHK   Rent  Size            Floor    Area Type  \\\n",
       "0  2022-05-18    2  10000  1100  Ground out of 2   Super Area   \n",
       "1  2022-05-13    2  20000   800       1 out of 3   Super Area   \n",
       "2  2022-05-16    2  17000  1000       1 out of 3   Super Area   \n",
       "3  2022-07-04    2  10000   800       1 out of 2   Super Area   \n",
       "4  2022-05-09    2   7500   850       1 out of 2  Carpet Area   \n",
       "\n",
       "              Area Locality     City Furnishing Status  Tenant Preferred  \\\n",
       "0                    Bandel  Kolkata       Unfurnished  Bachelors/Family   \n",
       "1  Phool Bagan, Kankurgachi  Kolkata    Semi-Furnished  Bachelors/Family   \n",
       "2   Salt Lake City Sector 2  Kolkata    Semi-Furnished  Bachelors/Family   \n",
       "3               Dumdum Park  Kolkata       Unfurnished  Bachelors/Family   \n",
       "4             South Dum Dum  Kolkata       Unfurnished         Bachelors   \n",
       "\n",
       "   Bathroom Point of Contact  \n",
       "0         2    Contact Owner  \n",
       "1         1    Contact Owner  \n",
       "2         1    Contact Owner  \n",
       "3         1    Contact Owner  \n",
       "4         1    Contact Owner  "
      ]
     },
     "execution_count": 9,
     "metadata": {},
     "output_type": "execute_result"
    }
   ],
   "source": [
    "df.head()"
   ]
  },
  {
   "cell_type": "code",
   "execution_count": 37,
   "id": "6a06b9d8",
   "metadata": {},
   "outputs": [
    {
     "data": {
      "image/png": "[encoded data removed]",
      "text/plain": [
       "<Figure size 864x576 with 1 Axes>"
      ]
     },
     "metadata": {
      "needs_background": "light"
     },
     "output_type": "display_data"
    }
   ],
   "source": [
    "plt.figure(figsize=(12,8))\n",
    "ax = sns.countplot(data=df, x='City')\n",
    "plt.title(\"Number of houses available for rent in cities\")\n",
    "for label in ax.containers:\n",
    "    ax.bar_label(label)\n",
    "plt.show()"
   ]
  },
  {
   "cell_type": "markdown",
   "id": "52236775",
   "metadata": {},
   "source": [
    "In Mumbai, Bangalore, Chennai and Hyderabad more houses are available for rent."
   ]
  },
  {
   "cell_type": "code",
   "execution_count": 11,
   "id": "398e99e8",
   "metadata": {},
   "outputs": [
    {
     "data": {
      "text/plain": [
       "2235"
      ]
     },
     "execution_count": 11,
     "metadata": {},
     "output_type": "execute_result"
    }
   ],
   "source": [
    "df[\"Area Locality\"].value_counts().count()"
   ]
  },
  {
   "cell_type": "code",
   "execution_count": 12,
   "id": "edaf3249",
   "metadata": {},
   "outputs": [
    {
     "data": {
      "text/html": [
       "<div>\n",
       "<style scoped>\n",
       "    .dataframe tbody tr th:only-of-type {\n",
       "        vertical-align: middle;\n",
       "    }\n",
       "\n",
       "    .dataframe tbody tr th {\n",
       "        vertical-align: top;\n",
       "    }\n",
       "\n",
       "    .dataframe thead th {\n",
       "        text-align: right;\n",
       "    }\n",
       "</style>\n",
       "<table border=\"1\" class=\"dataframe\">\n",
       "  <thead>\n",
       "    <tr style=\"text-align: right;\">\n",
       "      <th></th>\n",
       "      <th>Area Locality</th>\n",
       "      <th>Rent</th>\n",
       "    </tr>\n",
       "  </thead>\n",
       "  <tbody>\n",
       "    <tr>\n",
       "      <th>1001</th>\n",
       "      <td>Juhu</td>\n",
       "      <td>1200000</td>\n",
       "    </tr>\n",
       "    <tr>\n",
       "      <th>827</th>\n",
       "      <td>Raheja Artesia, Worli</td>\n",
       "      <td>1000000</td>\n",
       "    </tr>\n",
       "    <tr>\n",
       "      <th>1329</th>\n",
       "      <td>Breach Candy</td>\n",
       "      <td>850000</td>\n",
       "    </tr>\n",
       "    <tr>\n",
       "      <th>1459</th>\n",
       "      <td>Lady Ratan Tower, Worli</td>\n",
       "      <td>700000</td>\n",
       "    </tr>\n",
       "    <tr>\n",
       "      <th>1484</th>\n",
       "      <td>Khar West</td>\n",
       "      <td>680000</td>\n",
       "    </tr>\n",
       "    <tr>\n",
       "      <th>...</th>\n",
       "      <td>...</td>\n",
       "      <td>...</td>\n",
       "    </tr>\n",
       "    <tr>\n",
       "      <th>1224</th>\n",
       "      <td>Unicorn Global Arena, Naigaon East</td>\n",
       "      <td>6500</td>\n",
       "    </tr>\n",
       "    <tr>\n",
       "      <th>1092</th>\n",
       "      <td>Sonal Apartment, Bhandari Compound</td>\n",
       "      <td>6000</td>\n",
       "    </tr>\n",
       "    <tr>\n",
       "      <th>1270</th>\n",
       "      <td>Naigaon East</td>\n",
       "      <td>6000</td>\n",
       "    </tr>\n",
       "    <tr>\n",
       "      <th>944</th>\n",
       "      <td>Manibhadra Avenue, Morya Nagar</td>\n",
       "      <td>5500</td>\n",
       "    </tr>\n",
       "    <tr>\n",
       "      <th>908</th>\n",
       "      <td>Nalasopara West</td>\n",
       "      <td>4500</td>\n",
       "    </tr>\n",
       "  </tbody>\n",
       "</table>\n",
       "<p>972 rows × 2 columns</p>\n",
       "</div>"
      ],
      "text/plain": [
       "                           Area Locality     Rent\n",
       "1001                                Juhu  1200000\n",
       "827                Raheja Artesia, Worli  1000000\n",
       "1329                        Breach Candy   850000\n",
       "1459             Lady Ratan Tower, Worli   700000\n",
       "1484                           Khar West   680000\n",
       "...                                  ...      ...\n",
       "1224  Unicorn Global Arena, Naigaon East     6500\n",
       "1092  Sonal Apartment, Bhandari Compound     6000\n",
       "1270                        Naigaon East     6000\n",
       "944       Manibhadra Avenue, Morya Nagar     5500\n",
       "908                      Nalasopara West     4500\n",
       "\n",
       "[972 rows x 2 columns]"
      ]
     },
     "execution_count": 12,
     "metadata": {},
     "output_type": "execute_result"
    }
   ],
   "source": [
    "df[df[\"City\"]==\"Mumbai\"][[\"Area Locality\",\"Rent\"]].sort_values(\"Rent\", axis = 0, ascending = False)"
   ]
  },
  {
   "cell_type": "markdown",
   "id": "cdb1c4d8",
   "metadata": {},
   "source": [
    "For Mumbai city, Rent is high in Juhu Area and rent is low in Nalasopara west."
   ]
  },
  {
   "cell_type": "code",
   "execution_count": 13,
   "id": "dc4c0251",
   "metadata": {},
   "outputs": [
    {
     "data": {
      "text/html": [
       "<div>\n",
       "<style scoped>\n",
       "    .dataframe tbody tr th:only-of-type {\n",
       "        vertical-align: middle;\n",
       "    }\n",
       "\n",
       "    .dataframe tbody tr th {\n",
       "        vertical-align: top;\n",
       "    }\n",
       "\n",
       "    .dataframe thead th {\n",
       "        text-align: right;\n",
       "    }\n",
       "</style>\n",
       "<table border=\"1\" class=\"dataframe\">\n",
       "  <thead>\n",
       "    <tr style=\"text-align: right;\">\n",
       "      <th></th>\n",
       "      <th>Area Locality</th>\n",
       "      <th>Rent</th>\n",
       "    </tr>\n",
       "  </thead>\n",
       "  <tbody>\n",
       "    <tr>\n",
       "      <th>3656</th>\n",
       "      <td>Vettuvankeni</td>\n",
       "      <td>600000</td>\n",
       "    </tr>\n",
       "    <tr>\n",
       "      <th>3148</th>\n",
       "      <td>Madras Boat Club Road</td>\n",
       "      <td>330000</td>\n",
       "    </tr>\n",
       "    <tr>\n",
       "      <th>3320</th>\n",
       "      <td>Raja Annamalai Puram</td>\n",
       "      <td>280000</td>\n",
       "    </tr>\n",
       "    <tr>\n",
       "      <th>3795</th>\n",
       "      <td>Poes Garden, Teynampet</td>\n",
       "      <td>250000</td>\n",
       "    </tr>\n",
       "    <tr>\n",
       "      <th>3770</th>\n",
       "      <td>Poes Garden, Teynampet</td>\n",
       "      <td>220000</td>\n",
       "    </tr>\n",
       "    <tr>\n",
       "      <th>...</th>\n",
       "      <td>...</td>\n",
       "      <td>...</td>\n",
       "    </tr>\n",
       "    <tr>\n",
       "      <th>3746</th>\n",
       "      <td>Mogappair West</td>\n",
       "      <td>3500</td>\n",
       "    </tr>\n",
       "    <tr>\n",
       "      <th>3469</th>\n",
       "      <td>Thirunagar</td>\n",
       "      <td>3500</td>\n",
       "    </tr>\n",
       "    <tr>\n",
       "      <th>3220</th>\n",
       "      <td>Kundrathur, Pallavaram Kundrathur Main Road</td>\n",
       "      <td>3500</td>\n",
       "    </tr>\n",
       "    <tr>\n",
       "      <th>3068</th>\n",
       "      <td>Ennore</td>\n",
       "      <td>3000</td>\n",
       "    </tr>\n",
       "    <tr>\n",
       "      <th>3378</th>\n",
       "      <td>Mangadu</td>\n",
       "      <td>3000</td>\n",
       "    </tr>\n",
       "  </tbody>\n",
       "</table>\n",
       "<p>891 rows × 2 columns</p>\n",
       "</div>"
      ],
      "text/plain": [
       "                                    Area Locality    Rent\n",
       "3656                                 Vettuvankeni  600000\n",
       "3148                        Madras Boat Club Road  330000\n",
       "3320                         Raja Annamalai Puram  280000\n",
       "3795                       Poes Garden, Teynampet  250000\n",
       "3770                       Poes Garden, Teynampet  220000\n",
       "...                                           ...     ...\n",
       "3746                               Mogappair West    3500\n",
       "3469                                   Thirunagar    3500\n",
       "3220  Kundrathur, Pallavaram Kundrathur Main Road    3500\n",
       "3068                                       Ennore    3000\n",
       "3378                                      Mangadu    3000\n",
       "\n",
       "[891 rows x 2 columns]"
      ]
     },
     "execution_count": 13,
     "metadata": {},
     "output_type": "execute_result"
    }
   ],
   "source": [
    "df[df[\"City\"]==\"Chennai\"][[\"Area Locality\",\"Rent\"]].sort_values(\"Rent\", axis = 0, ascending = False)"
   ]
  },
  {
   "cell_type": "code",
   "execution_count": 14,
   "id": "c9d0457e",
   "metadata": {},
   "outputs": [
    {
     "data": {
      "text/html": [
       "<div>\n",
       "<style scoped>\n",
       "    .dataframe tbody tr th:only-of-type {\n",
       "        vertical-align: middle;\n",
       "    }\n",
       "\n",
       "    .dataframe tbody tr th {\n",
       "        vertical-align: top;\n",
       "    }\n",
       "\n",
       "    .dataframe thead th {\n",
       "        text-align: right;\n",
       "    }\n",
       "</style>\n",
       "<table border=\"1\" class=\"dataframe\">\n",
       "  <thead>\n",
       "    <tr style=\"text-align: right;\">\n",
       "      <th></th>\n",
       "      <th>Area Locality</th>\n",
       "      <th>Rent</th>\n",
       "    </tr>\n",
       "  </thead>\n",
       "  <tbody>\n",
       "    <tr>\n",
       "      <th>1837</th>\n",
       "      <td>Marathahalli</td>\n",
       "      <td>3500000</td>\n",
       "    </tr>\n",
       "    <tr>\n",
       "      <th>1718</th>\n",
       "      <td>Lavelle Road</td>\n",
       "      <td>380000</td>\n",
       "    </tr>\n",
       "    <tr>\n",
       "      <th>2209</th>\n",
       "      <td>Rajajinagar</td>\n",
       "      <td>280000</td>\n",
       "    </tr>\n",
       "    <tr>\n",
       "      <th>2048</th>\n",
       "      <td>whitefield</td>\n",
       "      <td>250000</td>\n",
       "    </tr>\n",
       "    <tr>\n",
       "      <th>2186</th>\n",
       "      <td>Koramangala</td>\n",
       "      <td>190000</td>\n",
       "    </tr>\n",
       "    <tr>\n",
       "      <th>...</th>\n",
       "      <td>...</td>\n",
       "      <td>...</td>\n",
       "    </tr>\n",
       "    <tr>\n",
       "      <th>2293</th>\n",
       "      <td>Vijayanagar</td>\n",
       "      <td>4000</td>\n",
       "    </tr>\n",
       "    <tr>\n",
       "      <th>1572</th>\n",
       "      <td>Byatarayanapura</td>\n",
       "      <td>4000</td>\n",
       "    </tr>\n",
       "    <tr>\n",
       "      <th>2082</th>\n",
       "      <td>Btm Layout</td>\n",
       "      <td>4000</td>\n",
       "    </tr>\n",
       "    <tr>\n",
       "      <th>2325</th>\n",
       "      <td>Itc Colony, Maruthi Sevanagar</td>\n",
       "      <td>4000</td>\n",
       "    </tr>\n",
       "    <tr>\n",
       "      <th>1776</th>\n",
       "      <td>Yeshwantpur</td>\n",
       "      <td>3500</td>\n",
       "    </tr>\n",
       "  </tbody>\n",
       "</table>\n",
       "<p>886 rows × 2 columns</p>\n",
       "</div>"
      ],
      "text/plain": [
       "                      Area Locality     Rent\n",
       "1837                   Marathahalli  3500000\n",
       "1718                   Lavelle Road   380000\n",
       "2209                    Rajajinagar   280000\n",
       "2048                     whitefield   250000\n",
       "2186                    Koramangala   190000\n",
       "...                             ...      ...\n",
       "2293                    Vijayanagar     4000\n",
       "1572                Byatarayanapura     4000\n",
       "2082                     Btm Layout     4000\n",
       "2325  Itc Colony, Maruthi Sevanagar     4000\n",
       "1776                    Yeshwantpur     3500\n",
       "\n",
       "[886 rows x 2 columns]"
      ]
     },
     "execution_count": 14,
     "metadata": {},
     "output_type": "execute_result"
    }
   ],
   "source": [
    "df[df[\"City\"]==\"Bangalore\"][[\"Area Locality\",\"Rent\"]].sort_values(\"Rent\", axis = 0, ascending = False)"
   ]
  },
  {
   "cell_type": "code",
   "execution_count": 15,
   "id": "5e3d0b81",
   "metadata": {},
   "outputs": [
    {
     "data": {
      "text/html": [
       "<div>\n",
       "<style scoped>\n",
       "    .dataframe tbody tr th:only-of-type {\n",
       "        vertical-align: middle;\n",
       "    }\n",
       "\n",
       "    .dataframe tbody tr th {\n",
       "        vertical-align: top;\n",
       "    }\n",
       "\n",
       "    .dataframe thead th {\n",
       "        text-align: right;\n",
       "    }\n",
       "</style>\n",
       "<table border=\"1\" class=\"dataframe\">\n",
       "  <thead>\n",
       "    <tr style=\"text-align: right;\">\n",
       "      <th></th>\n",
       "      <th>Area Locality</th>\n",
       "      <th>Rent</th>\n",
       "    </tr>\n",
       "  </thead>\n",
       "  <tbody>\n",
       "    <tr>\n",
       "      <th>4457</th>\n",
       "      <td>Jubilee Hills</td>\n",
       "      <td>400000</td>\n",
       "    </tr>\n",
       "    <tr>\n",
       "      <th>3989</th>\n",
       "      <td>Bandlaguda Jagir,, Hyderabad</td>\n",
       "      <td>300000</td>\n",
       "    </tr>\n",
       "    <tr>\n",
       "      <th>3879</th>\n",
       "      <td>Jubilee Hills</td>\n",
       "      <td>250000</td>\n",
       "    </tr>\n",
       "    <tr>\n",
       "      <th>4185</th>\n",
       "      <td>Beeramguda, Ramachandra Puram, NH 9</td>\n",
       "      <td>200000</td>\n",
       "    </tr>\n",
       "    <tr>\n",
       "      <th>4543</th>\n",
       "      <td>K P H B Phase 4</td>\n",
       "      <td>200000</td>\n",
       "    </tr>\n",
       "    <tr>\n",
       "      <th>...</th>\n",
       "      <td>...</td>\n",
       "      <td>...</td>\n",
       "    </tr>\n",
       "    <tr>\n",
       "      <th>3990</th>\n",
       "      <td>Borabanda</td>\n",
       "      <td>4000</td>\n",
       "    </tr>\n",
       "    <tr>\n",
       "      <th>4297</th>\n",
       "      <td>Moula Ali</td>\n",
       "      <td>3300</td>\n",
       "    </tr>\n",
       "    <tr>\n",
       "      <th>4220</th>\n",
       "      <td>Rhoda Mistri Nagar</td>\n",
       "      <td>3000</td>\n",
       "    </tr>\n",
       "    <tr>\n",
       "      <th>4415</th>\n",
       "      <td>New Nallakunta</td>\n",
       "      <td>3000</td>\n",
       "    </tr>\n",
       "    <tr>\n",
       "      <th>4076</th>\n",
       "      <td>Uppal, NH 2 2</td>\n",
       "      <td>1200</td>\n",
       "    </tr>\n",
       "  </tbody>\n",
       "</table>\n",
       "<p>868 rows × 2 columns</p>\n",
       "</div>"
      ],
      "text/plain": [
       "                             Area Locality    Rent\n",
       "4457                         Jubilee Hills  400000\n",
       "3989          Bandlaguda Jagir,, Hyderabad  300000\n",
       "3879                         Jubilee Hills  250000\n",
       "4185   Beeramguda, Ramachandra Puram, NH 9  200000\n",
       "4543                       K P H B Phase 4  200000\n",
       "...                                    ...     ...\n",
       "3990                             Borabanda    4000\n",
       "4297                             Moula Ali    3300\n",
       "4220                    Rhoda Mistri Nagar    3000\n",
       "4415                        New Nallakunta    3000\n",
       "4076                         Uppal, NH 2 2    1200\n",
       "\n",
       "[868 rows x 2 columns]"
      ]
     },
     "execution_count": 15,
     "metadata": {},
     "output_type": "execute_result"
    }
   ],
   "source": [
    "df[df[\"City\"]==\"Hyderabad\"][[\"Area Locality\",\"Rent\"]].sort_values(\"Rent\", axis = 0, ascending = False)"
   ]
  },
  {
   "cell_type": "code",
   "execution_count": 16,
   "id": "b2ce6407",
   "metadata": {},
   "outputs": [
    {
     "data": {
      "text/html": [
       "<div>\n",
       "<style scoped>\n",
       "    .dataframe tbody tr th:only-of-type {\n",
       "        vertical-align: middle;\n",
       "    }\n",
       "\n",
       "    .dataframe tbody tr th {\n",
       "        vertical-align: top;\n",
       "    }\n",
       "\n",
       "    .dataframe thead th {\n",
       "        text-align: right;\n",
       "    }\n",
       "</style>\n",
       "<table border=\"1\" class=\"dataframe\">\n",
       "  <thead>\n",
       "    <tr style=\"text-align: right;\">\n",
       "      <th></th>\n",
       "      <th>Area Locality</th>\n",
       "      <th>Rent</th>\n",
       "    </tr>\n",
       "  </thead>\n",
       "  <tbody>\n",
       "    <tr>\n",
       "      <th>2750</th>\n",
       "      <td>Anand Niketan</td>\n",
       "      <td>530000</td>\n",
       "    </tr>\n",
       "    <tr>\n",
       "      <th>2857</th>\n",
       "      <td>Sundar Nagar</td>\n",
       "      <td>350000</td>\n",
       "    </tr>\n",
       "    <tr>\n",
       "      <th>2403</th>\n",
       "      <td>Green Park</td>\n",
       "      <td>350000</td>\n",
       "    </tr>\n",
       "    <tr>\n",
       "      <th>2932</th>\n",
       "      <td>Maharani Bagh, New Friends Colony</td>\n",
       "      <td>280000</td>\n",
       "    </tr>\n",
       "    <tr>\n",
       "      <th>2399</th>\n",
       "      <td>Safdarjung Development Area, Hauz Khas</td>\n",
       "      <td>260000</td>\n",
       "    </tr>\n",
       "    <tr>\n",
       "      <th>...</th>\n",
       "      <td>...</td>\n",
       "      <td>...</td>\n",
       "    </tr>\n",
       "    <tr>\n",
       "      <th>2709</th>\n",
       "      <td>Najafgarh</td>\n",
       "      <td>4000</td>\n",
       "    </tr>\n",
       "    <tr>\n",
       "      <th>2761</th>\n",
       "      <td>Najafgarh</td>\n",
       "      <td>3500</td>\n",
       "    </tr>\n",
       "    <tr>\n",
       "      <th>2391</th>\n",
       "      <td>Ganesh Nagar, Tilak Nagar</td>\n",
       "      <td>3500</td>\n",
       "    </tr>\n",
       "    <tr>\n",
       "      <th>2913</th>\n",
       "      <td>Burari</td>\n",
       "      <td>3500</td>\n",
       "    </tr>\n",
       "    <tr>\n",
       "      <th>2475</th>\n",
       "      <td>Ram Nagar</td>\n",
       "      <td>2000</td>\n",
       "    </tr>\n",
       "  </tbody>\n",
       "</table>\n",
       "<p>605 rows × 2 columns</p>\n",
       "</div>"
      ],
      "text/plain": [
       "                               Area Locality    Rent\n",
       "2750                           Anand Niketan  530000\n",
       "2857                            Sundar Nagar  350000\n",
       "2403                              Green Park  350000\n",
       "2932       Maharani Bagh, New Friends Colony  280000\n",
       "2399  Safdarjung Development Area, Hauz Khas  260000\n",
       "...                                      ...     ...\n",
       "2709                               Najafgarh    4000\n",
       "2761                               Najafgarh    3500\n",
       "2391               Ganesh Nagar, Tilak Nagar    3500\n",
       "2913                                  Burari    3500\n",
       "2475                               Ram Nagar    2000\n",
       "\n",
       "[605 rows x 2 columns]"
      ]
     },
     "execution_count": 16,
     "metadata": {},
     "output_type": "execute_result"
    }
   ],
   "source": [
    "df[df[\"City\"]==\"Delhi\"][[\"Area Locality\",\"Rent\"]].sort_values(\"Rent\", axis = 0, ascending = False)"
   ]
  },
  {
   "cell_type": "code",
   "execution_count": 17,
   "id": "b857493c",
   "metadata": {},
   "outputs": [
    {
     "data": {
      "text/html": [
       "<div>\n",
       "<style scoped>\n",
       "    .dataframe tbody tr th:only-of-type {\n",
       "        vertical-align: middle;\n",
       "    }\n",
       "\n",
       "    .dataframe tbody tr th {\n",
       "        vertical-align: top;\n",
       "    }\n",
       "\n",
       "    .dataframe thead th {\n",
       "        text-align: right;\n",
       "    }\n",
       "</style>\n",
       "<table border=\"1\" class=\"dataframe\">\n",
       "  <thead>\n",
       "    <tr style=\"text-align: right;\">\n",
       "      <th></th>\n",
       "      <th>Area Locality</th>\n",
       "      <th>Rent</th>\n",
       "    </tr>\n",
       "  </thead>\n",
       "  <tbody>\n",
       "    <tr>\n",
       "      <th>104</th>\n",
       "      <td>Avenue S, Santoshpur</td>\n",
       "      <td>180000</td>\n",
       "    </tr>\n",
       "    <tr>\n",
       "      <th>516</th>\n",
       "      <td>Vedic Village, Rajarhat</td>\n",
       "      <td>65000</td>\n",
       "    </tr>\n",
       "    <tr>\n",
       "      <th>509</th>\n",
       "      <td>Salt Lake City</td>\n",
       "      <td>60000</td>\n",
       "    </tr>\n",
       "    <tr>\n",
       "      <th>181</th>\n",
       "      <td>Kanchrapara</td>\n",
       "      <td>50000</td>\n",
       "    </tr>\n",
       "    <tr>\n",
       "      <th>518</th>\n",
       "      <td>Ballygunge</td>\n",
       "      <td>45000</td>\n",
       "    </tr>\n",
       "    <tr>\n",
       "      <th>...</th>\n",
       "      <td>...</td>\n",
       "      <td>...</td>\n",
       "    </tr>\n",
       "    <tr>\n",
       "      <th>228</th>\n",
       "      <td>Kudghat, Ashok Nagar</td>\n",
       "      <td>3000</td>\n",
       "    </tr>\n",
       "    <tr>\n",
       "      <th>506</th>\n",
       "      <td>Baranagar</td>\n",
       "      <td>2200</td>\n",
       "    </tr>\n",
       "    <tr>\n",
       "      <th>146</th>\n",
       "      <td>Behala silpara</td>\n",
       "      <td>2200</td>\n",
       "    </tr>\n",
       "    <tr>\n",
       "      <th>471</th>\n",
       "      <td>Shyam Bazar</td>\n",
       "      <td>1800</td>\n",
       "    </tr>\n",
       "    <tr>\n",
       "      <th>285</th>\n",
       "      <td>Santoshpur</td>\n",
       "      <td>1500</td>\n",
       "    </tr>\n",
       "  </tbody>\n",
       "</table>\n",
       "<p>524 rows × 2 columns</p>\n",
       "</div>"
      ],
      "text/plain": [
       "               Area Locality    Rent\n",
       "104     Avenue S, Santoshpur  180000\n",
       "516  Vedic Village, Rajarhat   65000\n",
       "509           Salt Lake City   60000\n",
       "181              Kanchrapara   50000\n",
       "518               Ballygunge   45000\n",
       "..                       ...     ...\n",
       "228     Kudghat, Ashok Nagar    3000\n",
       "506                Baranagar    2200\n",
       "146           Behala silpara    2200\n",
       "471              Shyam Bazar    1800\n",
       "285               Santoshpur    1500\n",
       "\n",
       "[524 rows x 2 columns]"
      ]
     },
     "execution_count": 17,
     "metadata": {},
     "output_type": "execute_result"
    }
   ],
   "source": [
    "df[df[\"City\"]==\"Kolkata\"][[\"Area Locality\",\"Rent\"]].sort_values(\"Rent\", axis = 0, ascending = False)"
   ]
  },
  {
   "cell_type": "markdown",
   "id": "2ad4de07",
   "metadata": {},
   "source": [
    "Thus from the above insights we can check the rent for particular Area in a city."
   ]
  },
  {
   "cell_type": "code",
   "execution_count": 18,
   "id": "386e32e8",
   "metadata": {},
   "outputs": [
    {
     "data": {
      "text/plain": [
       "array(['Bachelors/Family', 'Bachelors', 'Family'], dtype=object)"
      ]
     },
     "execution_count": 18,
     "metadata": {},
     "output_type": "execute_result"
    }
   ],
   "source": [
    "df[\"Tenant Preferred\"].unique()"
   ]
  },
  {
   "cell_type": "code",
   "execution_count": 38,
   "id": "7673d1f8",
   "metadata": {},
   "outputs": [
    {
     "data": {
      "image/png": "[encoded data removed]",
      "text/plain": [
       "<Figure size 864x576 with 1 Axes>"
      ]
     },
     "metadata": {},
     "output_type": "display_data"
    }
   ],
   "source": [
    "plt.figure(figsize=(12,8))\n",
    "plt.pie(df[\"Tenant Preferred\"].value_counts(), labels=df[\"Tenant Preferred\"].unique())\n",
    "plt.legend()\n",
    "plt.title(\"Preferance of Tenants\")\n",
    "plt.show()"
   ]
  },
  {
   "cell_type": "markdown",
   "id": "5bceb11f",
   "metadata": {},
   "source": [
    "From the pie-chart we can see that most of the house owners prefer either Bachelor or family as their tenant."
   ]
  },
  {
   "cell_type": "markdown",
   "id": "0744a0ef",
   "metadata": {},
   "source": [
    "Now we will create a model that will predict the house rent. For that we need to first convert all the categorical variables into numerical."
   ]
  },
  {
   "cell_type": "code",
   "execution_count": 20,
   "id": "a0665c8b",
   "metadata": {},
   "outputs": [
    {
     "data": {
      "text/html": [
       "<div>\n",
       "<style scoped>\n",
       "    .dataframe tbody tr th:only-of-type {\n",
       "        vertical-align: middle;\n",
       "    }\n",
       "\n",
       "    .dataframe tbody tr th {\n",
       "        vertical-align: top;\n",
       "    }\n",
       "\n",
       "    .dataframe thead th {\n",
       "        text-align: right;\n",
       "    }\n",
       "</style>\n",
       "<table border=\"1\" class=\"dataframe\">\n",
       "  <thead>\n",
       "    <tr style=\"text-align: right;\">\n",
       "      <th></th>\n",
       "      <th>Posted On</th>\n",
       "      <th>BHK</th>\n",
       "      <th>Rent</th>\n",
       "      <th>Size</th>\n",
       "      <th>Floor</th>\n",
       "      <th>Area Type</th>\n",
       "      <th>Area Locality</th>\n",
       "      <th>City</th>\n",
       "      <th>Furnishing Status</th>\n",
       "      <th>Tenant Preferred</th>\n",
       "      <th>Bathroom</th>\n",
       "      <th>Point of Contact</th>\n",
       "    </tr>\n",
       "  </thead>\n",
       "  <tbody>\n",
       "    <tr>\n",
       "      <th>0</th>\n",
       "      <td>2022-05-18</td>\n",
       "      <td>2</td>\n",
       "      <td>10000</td>\n",
       "      <td>1100</td>\n",
       "      <td>Ground out of 2</td>\n",
       "      <td>Super Area</td>\n",
       "      <td>Bandel</td>\n",
       "      <td>Kolkata</td>\n",
       "      <td>Unfurnished</td>\n",
       "      <td>Bachelors/Family</td>\n",
       "      <td>2</td>\n",
       "      <td>Contact Owner</td>\n",
       "    </tr>\n",
       "    <tr>\n",
       "      <th>1</th>\n",
       "      <td>2022-05-13</td>\n",
       "      <td>2</td>\n",
       "      <td>20000</td>\n",
       "      <td>800</td>\n",
       "      <td>1 out of 3</td>\n",
       "      <td>Super Area</td>\n",
       "      <td>Phool Bagan, Kankurgachi</td>\n",
       "      <td>Kolkata</td>\n",
       "      <td>Semi-Furnished</td>\n",
       "      <td>Bachelors/Family</td>\n",
       "      <td>1</td>\n",
       "      <td>Contact Owner</td>\n",
       "    </tr>\n",
       "  </tbody>\n",
       "</table>\n",
       "</div>"
      ],
      "text/plain": [
       "    Posted On  BHK   Rent  Size            Floor   Area Type  \\\n",
       "0  2022-05-18    2  10000  1100  Ground out of 2  Super Area   \n",
       "1  2022-05-13    2  20000   800       1 out of 3  Super Area   \n",
       "\n",
       "              Area Locality     City Furnishing Status  Tenant Preferred  \\\n",
       "0                    Bandel  Kolkata       Unfurnished  Bachelors/Family   \n",
       "1  Phool Bagan, Kankurgachi  Kolkata    Semi-Furnished  Bachelors/Family   \n",
       "\n",
       "   Bathroom Point of Contact  \n",
       "0         2    Contact Owner  \n",
       "1         1    Contact Owner  "
      ]
     },
     "execution_count": 20,
     "metadata": {},
     "output_type": "execute_result"
    }
   ],
   "source": [
    "df.head(2)"
   ]
  },
  {
   "cell_type": "code",
   "execution_count": 21,
   "id": "920adb8d",
   "metadata": {},
   "outputs": [],
   "source": [
    "from sklearn import preprocessing\n",
    "\n",
    "label_encoder=preprocessing.LabelEncoder()\n",
    "df[\"Area Type\"]=label_encoder.fit_transform(df[\"Area Type\"])\n",
    "df[\"City\"]=label_encoder.fit_transform(df[\"City\"])\n",
    "df[\"Furnishing Status\"]=label_encoder.fit_transform(df[\"Furnishing Status\"])\n",
    "df[\"Tenant Preferred\"]=label_encoder.fit_transform(df[\"Tenant Preferred\"])"
   ]
  },
  {
   "cell_type": "code",
   "execution_count": 22,
   "id": "a14869a7",
   "metadata": {},
   "outputs": [
    {
     "data": {
      "text/html": [
       "<div>\n",
       "<style scoped>\n",
       "    .dataframe tbody tr th:only-of-type {\n",
       "        vertical-align: middle;\n",
       "    }\n",
       "\n",
       "    .dataframe tbody tr th {\n",
       "        vertical-align: top;\n",
       "    }\n",
       "\n",
       "    .dataframe thead th {\n",
       "        text-align: right;\n",
       "    }\n",
       "</style>\n",
       "<table border=\"1\" class=\"dataframe\">\n",
       "  <thead>\n",
       "    <tr style=\"text-align: right;\">\n",
       "      <th></th>\n",
       "      <th>Posted On</th>\n",
       "      <th>BHK</th>\n",
       "      <th>Rent</th>\n",
       "      <th>Size</th>\n",
       "      <th>Floor</th>\n",
       "      <th>Area Type</th>\n",
       "      <th>Area Locality</th>\n",
       "      <th>City</th>\n",
       "      <th>Furnishing Status</th>\n",
       "      <th>Tenant Preferred</th>\n",
       "      <th>Bathroom</th>\n",
       "      <th>Point of Contact</th>\n",
       "    </tr>\n",
       "  </thead>\n",
       "  <tbody>\n",
       "    <tr>\n",
       "      <th>0</th>\n",
       "      <td>2022-05-18</td>\n",
       "      <td>2</td>\n",
       "      <td>10000</td>\n",
       "      <td>1100</td>\n",
       "      <td>Ground out of 2</td>\n",
       "      <td>2</td>\n",
       "      <td>Bandel</td>\n",
       "      <td>4</td>\n",
       "      <td>2</td>\n",
       "      <td>1</td>\n",
       "      <td>2</td>\n",
       "      <td>Contact Owner</td>\n",
       "    </tr>\n",
       "    <tr>\n",
       "      <th>1</th>\n",
       "      <td>2022-05-13</td>\n",
       "      <td>2</td>\n",
       "      <td>20000</td>\n",
       "      <td>800</td>\n",
       "      <td>1 out of 3</td>\n",
       "      <td>2</td>\n",
       "      <td>Phool Bagan, Kankurgachi</td>\n",
       "      <td>4</td>\n",
       "      <td>1</td>\n",
       "      <td>1</td>\n",
       "      <td>1</td>\n",
       "      <td>Contact Owner</td>\n",
       "    </tr>\n",
       "    <tr>\n",
       "      <th>2</th>\n",
       "      <td>2022-05-16</td>\n",
       "      <td>2</td>\n",
       "      <td>17000</td>\n",
       "      <td>1000</td>\n",
       "      <td>1 out of 3</td>\n",
       "      <td>2</td>\n",
       "      <td>Salt Lake City Sector 2</td>\n",
       "      <td>4</td>\n",
       "      <td>1</td>\n",
       "      <td>1</td>\n",
       "      <td>1</td>\n",
       "      <td>Contact Owner</td>\n",
       "    </tr>\n",
       "    <tr>\n",
       "      <th>3</th>\n",
       "      <td>2022-07-04</td>\n",
       "      <td>2</td>\n",
       "      <td>10000</td>\n",
       "      <td>800</td>\n",
       "      <td>1 out of 2</td>\n",
       "      <td>2</td>\n",
       "      <td>Dumdum Park</td>\n",
       "      <td>4</td>\n",
       "      <td>2</td>\n",
       "      <td>1</td>\n",
       "      <td>1</td>\n",
       "      <td>Contact Owner</td>\n",
       "    </tr>\n",
       "    <tr>\n",
       "      <th>4</th>\n",
       "      <td>2022-05-09</td>\n",
       "      <td>2</td>\n",
       "      <td>7500</td>\n",
       "      <td>850</td>\n",
       "      <td>1 out of 2</td>\n",
       "      <td>1</td>\n",
       "      <td>South Dum Dum</td>\n",
       "      <td>4</td>\n",
       "      <td>2</td>\n",
       "      <td>0</td>\n",
       "      <td>1</td>\n",
       "      <td>Contact Owner</td>\n",
       "    </tr>\n",
       "  </tbody>\n",
       "</table>\n",
       "</div>"
      ],
      "text/plain": [
       "    Posted On  BHK   Rent  Size            Floor  Area Type  \\\n",
       "0  2022-05-18    2  10000  1100  Ground out of 2          2   \n",
       "1  2022-05-13    2  20000   800       1 out of 3          2   \n",
       "2  2022-05-16    2  17000  1000       1 out of 3          2   \n",
       "3  2022-07-04    2  10000   800       1 out of 2          2   \n",
       "4  2022-05-09    2   7500   850       1 out of 2          1   \n",
       "\n",
       "              Area Locality  City  Furnishing Status  Tenant Preferred  \\\n",
       "0                    Bandel     4                  2                 1   \n",
       "1  Phool Bagan, Kankurgachi     4                  1                 1   \n",
       "2   Salt Lake City Sector 2     4                  1                 1   \n",
       "3               Dumdum Park     4                  2                 1   \n",
       "4             South Dum Dum     4                  2                 0   \n",
       "\n",
       "   Bathroom Point of Contact  \n",
       "0         2    Contact Owner  \n",
       "1         1    Contact Owner  \n",
       "2         1    Contact Owner  \n",
       "3         1    Contact Owner  \n",
       "4         1    Contact Owner  "
      ]
     },
     "execution_count": 22,
     "metadata": {},
     "output_type": "execute_result"
    }
   ],
   "source": [
    "df.head()"
   ]
  },
  {
   "cell_type": "code",
   "execution_count": 23,
   "id": "a2c3c7b0",
   "metadata": {},
   "outputs": [
    {
     "name": "stdout",
     "output_type": "stream",
     "text": [
      "\n",
      " Shape of x_train: (3796, 7)\n",
      "\n",
      " Shape of y_train: (3796, 1)\n",
      "\n",
      " Shape of x_test: (950, 7)\n",
      "\n",
      " Shape of y_test: (950, 1)\n"
     ]
    }
   ],
   "source": [
    "from sklearn.model_selection import train_test_split\n",
    "\n",
    "X=df[[\"BHK\",\"Size\",\"Area Type\",\"City\",\"Furnishing Status\",\"Tenant Preferred\",\"Bathroom\"]]\n",
    "y=df[[\"Rent\"]]\n",
    "\n",
    "x_train,x_test,y_train,y_test=train_test_split(X,y, test_size=0.2, random_state=1)\n",
    "print(\"\\n Shape of x_train:\",x_train.shape)\n",
    "print(\"\\n Shape of y_train:\",y_train.shape)\n",
    "print(\"\\n Shape of x_test:\",x_test.shape)\n",
    "print(\"\\n Shape of y_test:\",y_test.shape)"
   ]
  },
  {
   "cell_type": "markdown",
   "id": "22aee328",
   "metadata": {},
   "source": [
    "Now let's train the model using LSTM Neural network."
   ]
  },
  {
   "cell_type": "code",
   "execution_count": 25,
   "id": "651d6eb7",
   "metadata": {},
   "outputs": [
    {
     "name": "stdout",
     "output_type": "stream",
     "text": [
      "Model: \"sequential\"\n",
      "_________________________________________________________________\n",
      " Layer (type)                Output Shape              Param #   \n",
      "=================================================================\n",
      " lstm (LSTM)                 (None, 7, 128)            66560     \n",
      "                                                                 \n",
      " lstm_1 (LSTM)               (None, 64)                49408     \n",
      "                                                                 \n",
      " dense (Dense)               (None, 21)                1365      \n",
      "                                                                 \n",
      " dense_1 (Dense)             (None, 1)                 22        \n",
      "                                                                 \n",
      "=================================================================\n",
      "Total params: 117,355\n",
      "Trainable params: 117,355\n",
      "Non-trainable params: 0\n",
      "_________________________________________________________________\n"
     ]
    }
   ],
   "source": [
    "from keras.models import Sequential\n",
    "from keras.layers import Dense, LSTM\n",
    "\n",
    "model=Sequential()\n",
    "model.add(LSTM(128, return_sequences=True, input_shape=(x_train.shape[1],1)))\n",
    "model.add(LSTM(64,return_sequences=False))\n",
    "model.add(Dense(21))\n",
    "model.add(Dense(1))\n",
    "model.summary()"
   ]
  },
  {
   "cell_type": "code",
   "execution_count": 26,
   "id": "5024cc44",
   "metadata": {},
   "outputs": [
    {
     "name": "stdout",
     "output_type": "stream",
     "text": [
      "Epoch 1/9\n",
      "3796/3796 [==============================] - 61s 12ms/step - loss: 4615505408.0000\n",
      "Epoch 2/9\n",
      "3796/3796 [==============================] - 45s 12ms/step - loss: 4041949184.0000\n",
      "Epoch 3/9\n",
      "3796/3796 [==============================] - 58s 15ms/step - loss: 3728758528.0000\n",
      "Epoch 4/9\n",
      "3796/3796 [==============================] - 71s 19ms/step - loss: 3535715328.0000\n",
      "Epoch 5/9\n",
      "3796/3796 [==============================] - 70s 19ms/step - loss: 3285492480.0000\n",
      "Epoch 6/9\n",
      "3796/3796 [==============================] - 57s 15ms/step - loss: 2996833536.0000\n",
      "Epoch 7/9\n",
      "3796/3796 [==============================] - 53s 14ms/step - loss: 2860934144.0000\n",
      "Epoch 8/9\n",
      "3796/3796 [==============================] - 53s 14ms/step - loss: 2614317056.0000\n",
      "Epoch 9/9\n",
      "3796/3796 [==============================] - 52s 14ms/step - loss: 2468945664.0000\n"
     ]
    },
    {
     "data": {
      "text/plain": [
       "<keras.callbacks.History at 0x23f8f7373d0>"
      ]
     },
     "execution_count": 26,
     "metadata": {},
     "output_type": "execute_result"
    }
   ],
   "source": [
    "model.compile(optimizer=\"adam\",loss=\"mean_squared_error\")\n",
    "model.fit(x_train,y_train,batch_size=1,epochs=9)"
   ]
  },
  {
   "cell_type": "code",
   "execution_count": 27,
   "id": "d977566c",
   "metadata": {},
   "outputs": [
    {
     "name": "stdout",
     "output_type": "stream",
     "text": [
      "Enter House Details to Predict Rent\n",
      "Number of BHK: 2\n",
      "Size of the House: 1\n",
      "Area Type (Super Area = 1, Carpet Area = 2, Built Area = 3): 2\n",
      "Pin Code of the City: 134113\n",
      "Furnishing Status of the House (Unfurnished = 0, Semi-Furnished = 1, Furnished = 2): 1\n",
      "Tenant Type (Bachelors = 1, Bachelors/Family = 2, Only Family = 3): 2\n",
      "Number of bathrooms: 2\n",
      "1/1 [==============================] - 3s 3s/step\n",
      "Predicted House Price =  [[12581.957]]\n"
     ]
    }
   ],
   "source": [
    "print(\"Enter House Details to Predict Rent\")\n",
    "a = int(input(\"Number of BHK: \"))\n",
    "b = int(input(\"Size of the House: \"))\n",
    "c = int(input(\"Area Type (Super Area = 1, Carpet Area = 2, Built Area = 3): \"))\n",
    "d = int(input(\"Pin Code of the City: \"))\n",
    "e = int(input(\"Furnishing Status of the House (Unfurnished = 0, Semi-Furnished = 1, Furnished = 2): \"))\n",
    "f = int(input(\"Tenant Type (Bachelors = 1, Bachelors/Family = 2, Only Family = 3): \"))\n",
    "g = int(input(\"Number of bathrooms: \"))\n",
    "features = np.array([[a, b, c, d, e, f, g]])\n",
    "print(\"Predicted House Price = \", model.predict(features))"
   ]
  }
 ],
 "metadata": {
  "kernelspec": {
   "display_name": "Python 3 (ipykernel)",
   "language": "python",
   "name": "python3"
  },
  "language_info": {
   "codemirror_mode": {
    "name": "ipython",
    "version": 3
   },
   "file_extension": ".py",
   "mimetype": "text/x-python",
   "name": "python",
   "nbconvert_exporter": "python",
   "pygments_lexer": "ipython3",
   "version": "3.9.7"
  }
 },
 "nbformat": 4,
 "nbformat_minor": 5
}
